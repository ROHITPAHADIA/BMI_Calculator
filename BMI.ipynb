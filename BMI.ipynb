{
 "cells": [
  {
   "cell_type": "code",
   "execution_count": 1,
   "id": "a2ebad3d-1b68-4ae9-af0f-df06310af630",
   "metadata": {},
   "outputs": [],
   "source": [
    "import tkinter as tk\n",
    "from tkinter import messagebox\n",
    "\n",
    "def calculate_bmi():\n",
    "    try:\n",
    "        # Get user input\n",
    "        weight = float(entry_weight.get())\n",
    "        feet = int(entry_feet.get())\n",
    "        inches = int(entry_inches.get())\n",
    "        \n",
    "        # Convert height from feet and inches to meters\n",
    "        height_in_meters = ((feet * 12) + inches) * 0.0254\n",
    "        \n",
    "        # Calculate BMI\n",
    "        bmi = weight / (height_in_meters ** 2)\n",
    "        \n",
    "        # Determine the BMI category\n",
    "        if bmi < 18.5:\n",
    "            category = \"Underweight\"\n",
    "        elif 18.5 <= bmi < 24.9:\n",
    "            category = \"Normal weight\"\n",
    "        elif 25 <= bmi < 29.9:\n",
    "            category = \"Overweight\"\n",
    "        else:\n",
    "            category = \"Obesity\"\n",
    "        \n",
    "        # Display the result\n",
    "        result = f\"BMI: {bmi:.2f}\\nCategory: {category}\"\n",
    "        messagebox.showinfo(\"BMI Result\", result)\n",
    "        \n",
    "    except ValueError:\n",
    "        messagebox.showerror(\"Input Error\", \"Please enter valid numbers for weight, feet, and inches.\")\n",
    "\n",
    "# Create the main application window\n",
    "root = tk.Tk()\n",
    "root.title(\"BMI Calculator\")\n",
    "\n",
    "# Create and place the labels and entry fields\n",
    "tk.Label(root, text=\"Weight (kg):\").grid(row=0, column=0, padx=10, pady=5)\n",
    "entry_weight = tk.Entry(root)\n",
    "entry_weight.grid(row=0, column=1, padx=10, pady=5)\n",
    "\n",
    "tk.Label(root, text=\"Height (feet):\").grid(row=1, column=0, padx=10, pady=5)\n",
    "entry_feet = tk.Entry(root)\n",
    "entry_feet.grid(row=1, column=1, padx=10, pady=5)\n",
    "\n",
    "tk.Label(root, text=\"Height (inches):\").grid(row=2, column=0, padx=10, pady=5)\n",
    "entry_inches = tk.Entry(root)\n",
    "entry_inches.grid(row=2, column=1, padx=10, pady=5)\n",
    "\n",
    "# Create and place the Calculate button\n",
    "calculate_button = tk.Button(root, text=\"Calculate BMI\", command=calculate_bmi)\n",
    "calculate_button.grid(row=3, columnspan=2, padx=10, pady=10)\n",
    "\n",
    "# Start the main event loop\n",
    "root.mainloop()\n"
   ]
  },
  {
   "cell_type": "code",
   "execution_count": null,
   "id": "76c4a2a6-1d41-43a7-94eb-ec337d4ee115",
   "metadata": {},
   "outputs": [],
   "source": []
  }
 ],
 "metadata": {
  "kernelspec": {
   "display_name": "Python 3 (ipykernel)",
   "language": "python",
   "name": "python3"
  },
  "language_info": {
   "codemirror_mode": {
    "name": "ipython",
    "version": 3
   },
   "file_extension": ".py",
   "mimetype": "text/x-python",
   "name": "python",
   "nbconvert_exporter": "python",
   "pygments_lexer": "ipython3",
   "version": "3.12.4"
  }
 },
 "nbformat": 4,
 "nbformat_minor": 5
}
